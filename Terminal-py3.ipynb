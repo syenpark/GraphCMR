{
 "cells": [
  {
   "cell_type": "code",
   "execution_count": 1,
   "metadata": {},
   "outputs": [
    {
     "name": "stdout",
     "output_type": "stream",
     "text": [
      "Colab-py2.ipynb  demo.py   fetch_data.sh\t   README.md\t       train.py\r\n",
      "config.py\t docker    LICENSE\t\t   requirements.txt    utils\r\n",
      "data\t\t eval.py   models\t\t   Terminal-py3.ipynb\r\n",
      "datasets\t examples  preprocess_datasets.py  train\r\n"
     ]
    }
   ],
   "source": [
    "import"
   ]
  },
  {
   "cell_type": "markdown",
   "metadata": {},
   "source": [
    "# 0. Setting\n",
    "\n",
    "[GraphCMR](https://github.com/nkolot/GraphCMR) is not fully compatible with Python 3 becaues of its dependency, `opendr`, which supports only Python 2. To address this issue, I change its dependency to `pyrender` according to the author's comment [here](https://github.com/nkolot/GraphCMR/issues/25) and [README.md](https://github.com/nkolot/SPIN). In other words, apart from `the origianl requirements.txt` installation, we should run the below command also via the terminal. \n",
    "\n",
    "```\n",
    "$pip install pyrender\n",
    "```"
   ]
  },
  {
   "cell_type": "code",
   "execution_count": null,
   "metadata": {},
   "outputs": [],
   "source": []
  },
  {
   "cell_type": "markdown",
   "metadata": {},
   "source": [
    "https://github.com/nkolot/SPIN/blob/master/train/trainer.py\n",
    "https://github.com/nkolot/SPIN/blob/master/demo.py\n",
    "https://github.com/nkolot/SPIN/blob/master/utils/renderer.py"
   ]
  }
 ],
 "metadata": {
  "kernelspec": {
   "display_name": "Python 3 - GraphCMR",
   "language": "python3",
   "name": "cmr"
  },
  "language_info": {
   "codemirror_mode": {
    "name": "ipython",
    "version": 3
   },
   "file_extension": ".py",
   "mimetype": "text/x-python",
   "name": "python",
   "nbconvert_exporter": "python",
   "pygments_lexer": "ipython3",
   "version": "3.5.3"
  }
 },
 "nbformat": 4,
 "nbformat_minor": 2
}
